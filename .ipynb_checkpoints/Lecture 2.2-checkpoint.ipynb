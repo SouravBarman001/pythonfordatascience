{
 "cells": [
  {
   "cell_type": "code",
   "execution_count": 1,
   "metadata": {},
   "outputs": [
    {
     "name": "stdout",
     "output_type": "stream",
     "text": [
      "Enter your name:sourav\n",
      "sourav\n"
     ]
    }
   ],
   "source": [
    "number = input(\"Enter your name:\")\n",
    "print(number)"
   ]
  },
  {
   "cell_type": "code",
   "execution_count": 2,
   "metadata": {},
   "outputs": [
    {
     "name": "stdout",
     "output_type": "stream",
     "text": [
      "<class 'str'>\n"
     ]
    }
   ],
   "source": [
    "age = 24\n",
    "serial = str(age)\n",
    "print(type(serial))"
   ]
  },
  {
   "cell_type": "code",
   "execution_count": 3,
   "metadata": {},
   "outputs": [
    {
     "name": "stdout",
     "output_type": "stream",
     "text": [
      "Enter number 1:34\n",
      "Enter number 2:65\n",
      "Sum of the number : 99\n"
     ]
    }
   ],
   "source": [
    "number1 = int(input(\"Enter number 1:\"))\n",
    "number2 = int(input(\"Enter number 2:\"))\n",
    "\n",
    "sum = number1+number2\n",
    "print(\"Sum of the number :\",sum)"
   ]
  },
  {
   "cell_type": "code",
   "execution_count": 1,
   "metadata": {},
   "outputs": [
    {
     "name": "stdout",
     "output_type": "stream",
     "text": [
      "Enter 2 number2 4\n",
      "number one 2\n",
      "number two  4\n",
      "\n"
     ]
    }
   ],
   "source": [
    "a,b = input(\"Enter 2 number\").split()\n",
    "print(\"number one\",a)\n",
    "print(\"number two \",b)\n",
    "print()"
   ]
  },
  {
   "cell_type": "code",
   "execution_count": null,
   "metadata": {},
   "outputs": [],
   "source": [
    "a,b = map(int,input(\"Enter two integer number :\").split())\n",
    "print()"
   ]
  }
 ],
 "metadata": {
  "kernelspec": {
   "display_name": "Python 3",
   "language": "python",
   "name": "python3"
  },
  "language_info": {
   "codemirror_mode": {
    "name": "ipython",
    "version": 3
   },
   "file_extension": ".py",
   "mimetype": "text/x-python",
   "name": "python",
   "nbconvert_exporter": "python",
   "pygments_lexer": "ipython3",
   "version": "3.8.3"
  }
 },
 "nbformat": 4,
 "nbformat_minor": 4
}
