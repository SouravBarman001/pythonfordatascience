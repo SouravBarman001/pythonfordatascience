{
 "cells": [
  {
   "cell_type": "code",
   "execution_count": null,
   "metadata": {},
   "outputs": [],
   "source": [
    "class student:\n",
    "    name =''\n",
    "    roll =''\n",
    "    \n",
    "    def setValue(self,name,roll):\n",
    "        self.name = name\n",
    "        self.roll = roll\n",
    "    \n",
    "    def display(self):\n",
    "        print(\"Name:\",self.name)\n",
    "        print(\"Roll:\",self.roll)\n",
    "    \n",
    "ID1 = student()\n",
    "#print(isinstance(sourav,student))\n",
    "ID1.setValue(\"mitu\",12)\n",
    "ID1.display()\n",
    "\n",
    "        "
   ]
  },
  {
   "cell_type": "markdown",
   "metadata": {},
   "source": [
    "# constructor"
   ]
  },
  {
   "cell_type": "code",
   "execution_count": 1,
   "metadata": {},
   "outputs": [
    {
     "name": "stdout",
     "output_type": "stream",
     "text": [
      "sourav\n",
      "23\n"
     ]
    }
   ],
   "source": [
    "class employee:\n",
    "    name = \"\"\n",
    "    age = \"\"\n",
    "    \n",
    "    def __init__(self,name,age):\n",
    "        self.name = name\n",
    "        self.age = age\n",
    "    def display(self):\n",
    "        print(self.name)\n",
    "        print(self.age)\n",
    "        \n",
    "        \n",
    "emp = employee(\"sourav\",\"23\")   \n",
    "emp.display()\n",
    "        "
   ]
  },
  {
   "cell_type": "markdown",
   "metadata": {},
   "source": [
    "###### exercise"
   ]
  },
  {
   "cell_type": "code",
   "execution_count": 4,
   "metadata": {},
   "outputs": [
    {
     "name": "stdout",
     "output_type": "stream",
     "text": [
      "100.0\n",
      "300.0\n"
     ]
    }
   ],
   "source": [
    "class Triangle:\n",
    "    base = \"\"\n",
    "    height = \"\"\n",
    "    \n",
    "    def __init__(self,base,height):\n",
    "        self.base = base\n",
    "        self.height = height\n",
    "    def calculate(self):\n",
    "        result = 1/2 * self.base * self.height\n",
    "        print(result)\n",
    "        \n",
    "T1 = Triangle(10,20) \n",
    "T1.calculate()\n",
    "\n",
    "T2 = Triangle(20,30) \n",
    "T2.calculate()"
   ]
  },
  {
   "cell_type": "markdown",
   "metadata": {},
   "source": [
    "#### inheritance"
   ]
  },
  {
   "cell_type": "code",
   "execution_count": 9,
   "metadata": {},
   "outputs": [
    {
     "name": "stdout",
     "output_type": "stream",
     "text": [
      "taking photo\n",
      "calling\n"
     ]
    }
   ],
   "source": [
    "class phone:\n",
    "    \n",
    "    def call(self):\n",
    "        print('calling')\n",
    "\n",
    "class samsung(phone):\n",
    "    \n",
    "    def photo(self):\n",
    "        print('taking photo')\n",
    "        \n",
    "s = samsung()\n",
    "s.photo()\n",
    "s.call()"
   ]
  },
  {
   "cell_type": "markdown",
   "metadata": {},
   "source": [
    "#### method overridding"
   ]
  },
  {
   "cell_type": "code",
   "execution_count": 18,
   "metadata": {},
   "outputs": [
    {
     "name": "stdout",
     "output_type": "stream",
     "text": [
      "I am walton\n",
      "I am nokia\n"
     ]
    }
   ],
   "source": [
    "class walton:\n",
    "    \n",
    "    def __init__(self):\n",
    "        print(\"I am walton\")\n",
    "        \n",
    "class nokia(walton):\n",
    "    \n",
    "    def __init__(self):\n",
    "                \n",
    "        super().__init__()   \n",
    "        print(\"I am nokia\")\n",
    "   \n",
    "n = nokia()\n"
   ]
  },
  {
   "cell_type": "markdown",
   "metadata": {},
   "source": [
    "### inheritance exercise"
   ]
  },
  {
   "cell_type": "code",
   "execution_count": null,
   "metadata": {},
   "outputs": [],
   "source": [
    "class Area:\n",
    "    \n",
    "    def __init__(self,value1,value2):\n",
    "        self.value1 = value1\n",
    "        self.value2 = value2\n",
    "\n",
    "class Traingle(Area):\n",
    "    \n",
    "    def Tarea(self):\n",
    "        result = 0.5 * self.value1 * self.value2\n",
    "        print(\"Traingle Area :\",result)\n",
    "        \n",
    "class Rectangle(Area):\n",
    "    \n",
    "    def Rarea(self):\n",
    "        result = self.value1 * self.value2\n",
    "        print(\"Rectangle Area :\",result)        \n",
    "        "
   ]
  },
  {
   "cell_type": "code",
   "execution_count": null,
   "metadata": {},
   "outputs": [],
   "source": []
  },
  {
   "cell_type": "code",
   "execution_count": null,
   "metadata": {},
   "outputs": [],
   "source": []
  }
 ],
 "metadata": {
  "kernelspec": {
   "display_name": "Python 3",
   "language": "python",
   "name": "python3"
  },
  "language_info": {
   "codemirror_mode": {
    "name": "ipython",
    "version": 3
   },
   "file_extension": ".py",
   "mimetype": "text/x-python",
   "name": "python",
   "nbconvert_exporter": "python",
   "pygments_lexer": "ipython3",
   "version": "3.8.3"
  }
 },
 "nbformat": 4,
 "nbformat_minor": 4
}
