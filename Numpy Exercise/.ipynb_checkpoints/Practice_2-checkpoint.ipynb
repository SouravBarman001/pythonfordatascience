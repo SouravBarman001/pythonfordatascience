{
 "cells": [
  {
   "cell_type": "code",
   "execution_count": null,
   "metadata": {},
   "outputs": [],
   "source": [
    "import numpy as np\n",
    "np.random.seed(100)\n",
    "arr = np.random.randint(1,100,10)\n",
    "print(arr)\n",
    "\n",
    "arr =  np.random.rand(5)\n",
    "print(arr)\n",
    "\n",
    "arr =  np.random.randn(5)\n",
    "print(arr)"
   ]
  },
  {
   "cell_type": "code",
   "execution_count": null,
   "metadata": {},
   "outputs": [],
   "source": [
    "arr2d = np.random.randint(0,100,(3,3))\n",
    "print(arr2d)\n",
    "print(\"index:\",arr2d[0])"
   ]
  },
  {
   "cell_type": "code",
   "execution_count": null,
   "metadata": {},
   "outputs": [],
   "source": [
    "arr = np.arange(25).reshape(5,5)\n",
    "\n",
    "print(arr)\n",
    "print(arr[2:4,1:3])"
   ]
  },
  {
   "cell_type": "code",
   "execution_count": null,
   "metadata": {},
   "outputs": [],
   "source": [
    "print(arr.ndim)"
   ]
  },
  {
   "cell_type": "code",
   "execution_count": null,
   "metadata": {},
   "outputs": [],
   "source": [
    "print(arr.dtype)\n",
    "print(arr.size)"
   ]
  },
  {
   "cell_type": "code",
   "execution_count": null,
   "metadata": {},
   "outputs": [],
   "source": [
    "a = [[2,3,4],[5,4,3],[5,4,3]]\n",
    "arr = np.array(a)\n",
    "\n",
    "print(arr)"
   ]
  },
  {
   "cell_type": "code",
   "execution_count": null,
   "metadata": {},
   "outputs": [],
   "source": [
    "a =[]\n",
    "\n",
    "size = int(input(\"Enter the size:\"))\n",
    "\n",
    "for i in range(size):\n",
    "    n = int(input(\"Enter values:\"))\n",
    "    a.append(n)\n",
    "    \n",
    "arr = np.array(a).reshape(2,2)    \n",
    "print(arr)\n",
    "for i in range(arr.size):\n",
    "    print(arr[i])\n"
   ]
  },
  {
   "cell_type": "code",
   "execution_count": null,
   "metadata": {},
   "outputs": [],
   "source": [
    "import numpy as np\n",
    "\n",
    "arr = np.array([1, 0, 3])\n",
    "\n",
    "newarr = arr.astype(bool)\n",
    "\n",
    "print(newarr)\n",
    "print(newarr.dtype)"
   ]
  },
  {
   "cell_type": "code",
   "execution_count": null,
   "metadata": {},
   "outputs": [],
   "source": [
    "import numpy as np\n",
    "\n",
    "arr = np.array([1, 2, 3, 4, 5])\n",
    "x = arr.copy()\n",
    "arr[0] = 42\n",
    "\n",
    "print(arr)\n",
    "print(x)"
   ]
  },
  {
   "cell_type": "markdown",
   "metadata": {},
   "source": [
    "# Arithmetic Operators"
   ]
  },
  {
   "cell_type": "code",
   "execution_count": 5,
   "metadata": {},
   "outputs": [
    {
     "name": "stdout",
     "output_type": "stream",
     "text": [
      "[ 0  5 12 21]\n"
     ]
    }
   ],
   "source": [
    "import numpy as np\n",
    "a = np.arange(4)\n",
    "b = np.arange(4,8)\n",
    "print(a*b)"
   ]
  },
  {
   "cell_type": "code",
   "execution_count": 14,
   "metadata": {},
   "outputs": [
    {
     "name": "stdout",
     "output_type": "stream",
     "text": [
      "[0.54953168 0.58132614 0.43153324 1.01456635 0.05564646]\n",
      "0.5813261439474607\n",
      "8.0\n"
     ]
    }
   ],
   "source": [
    "a = np.random.randn(5)\n",
    "b = np.arange(1,5)\n",
    "#print(a)\n",
    "print(np.abs(a))\n",
    "print(a.max())\n",
    "print(np.sqrt(64))"
   ]
  },
  {
   "cell_type": "code",
   "execution_count": 19,
   "metadata": {},
   "outputs": [
    {
     "name": "stdout",
     "output_type": "stream",
     "text": [
      "[[10 11 12]\n",
      " [13 14 15]\n",
      " [16 17 18]]\n",
      "[[10 11 12]\n",
      " [16 17 18]]\n"
     ]
    }
   ],
   "source": [
    "a = np.arange(10,19).reshape(3,3)\n",
    "\n",
    "print(a)\n",
    "print(a[::2])"
   ]
  },
  {
   "cell_type": "code",
   "execution_count": 32,
   "metadata": {},
   "outputs": [
    {
     "name": "stdout",
     "output_type": "stream",
     "text": [
      "[10 11 12 13 14 15 16]\n",
      "[10 12 14 16]\n"
     ]
    }
   ],
   "source": [
    "arr = np.arange(10,17)\n",
    "print(arr)\n",
    "print(arr[:7:2])\n"
   ]
  },
  {
   "cell_type": "code",
   "execution_count": 44,
   "metadata": {},
   "outputs": [
    {
     "name": "stdout",
     "output_type": "stream",
     "text": [
      "[[10 11 12]\n",
      " [13 14 15]\n",
      " [16 17 18]]\n",
      "[10 11 12]\n",
      "[10 13 16]\n",
      "[[10 11]\n",
      " [13 14]]\n"
     ]
    }
   ],
   "source": [
    "a = np.arange(10,19).reshape(3,3)\n",
    "\n",
    "print(a)\n",
    "\n",
    "print(a[0,:])\n",
    "print(a[:,0])\n",
    "print(a[0:2,0:2])\n"
   ]
  },
  {
   "cell_type": "code",
   "execution_count": 43,
   "metadata": {},
   "outputs": [
    {
     "name": "stdout",
     "output_type": "stream",
     "text": [
      "[[10 11]\n",
      " [16 17]]\n"
     ]
    }
   ],
   "source": [
    "print(a[[0,2], 0:2])"
   ]
  },
  {
   "cell_type": "markdown",
   "metadata": {},
   "source": [
    "# user input 2D array"
   ]
  },
  {
   "cell_type": "code",
   "execution_count": 49,
   "metadata": {},
   "outputs": [
    {
     "name": "stdout",
     "output_type": "stream",
     "text": [
      "Enter row:3\n",
      "Enter column:3\n",
      "Insert 0 column value:2\n",
      "Insert 1 column value:3\n",
      "Insert 2 column value:4\n",
      "Insert 0 column value:5\n",
      "Insert 1 column value:3\n",
      "Insert 2 column value:1\n",
      "Insert 0 column value:6\n",
      "Insert 1 column value:7\n",
      "Insert 2 column value:5\n",
      "[[2 3 4]\n",
      " [5 3 1]\n",
      " [6 7 5]]\n"
     ]
    },
    {
     "data": {
      "text/plain": [
       "'\\nfor i in range(row):\\n    for j in range(column):\\n        print(matrix[i][j],end=\"\")\\n\\n'"
      ]
     },
     "execution_count": 49,
     "metadata": {},
     "output_type": "execute_result"
    }
   ],
   "source": [
    "import numpy as np\n",
    "\n",
    "matrix = []\n",
    "\n",
    "row = int(input(\"Enter row:\"))\n",
    "column = int(input(\"Enter column:\"))\n",
    "\n",
    "for i in range(row):\n",
    "    a=[]\n",
    "    count = 0\n",
    "    for j in range(column):\n",
    "        value = int(input(f\"Insert {count} column value:\"))\n",
    "        a.append(value)\n",
    "        count+=1\n",
    "    matrix.append(a)\n",
    "    \n",
    "\n",
    "arr = np.array(matrix)\n",
    "print(arr)\n",
    "\n",
    "\n",
    "#for i in range(row):\n",
    "#    for j in range(column):\n",
    "#        print(matrix[i][j],end=\"\")\n",
    "\n",
    "    \n"
   ]
  },
  {
   "cell_type": "code",
   "execution_count": null,
   "metadata": {},
   "outputs": [],
   "source": []
  }
 ],
 "metadata": {
  "kernelspec": {
   "display_name": "Python 3",
   "language": "python",
   "name": "python3"
  },
  "language_info": {
   "codemirror_mode": {
    "name": "ipython",
    "version": 3
   },
   "file_extension": ".py",
   "mimetype": "text/x-python",
   "name": "python",
   "nbconvert_exporter": "python",
   "pygments_lexer": "ipython3",
   "version": "3.8.3"
  }
 },
 "nbformat": 4,
 "nbformat_minor": 4
}
