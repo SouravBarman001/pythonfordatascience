{
 "cells": [
  {
   "cell_type": "code",
   "execution_count": null,
   "metadata": {},
   "outputs": [],
   "source": [
    "import numpy as np\n",
    "\n",
    "arr = np.array([1,2,3,4])\n",
    "print(arr)\n",
    "\n",
    "arr2 = [20,30,40]\n",
    "numpyarr = np.array(arr2)\n",
    "print(numpyarr)\n",
    "\n",
    "arr4 = np.arange(1,10,2)\n",
    "print(arr4)\n"
   ]
  },
  {
   "cell_type": "markdown",
   "metadata": {},
   "source": [
    "### user input numpy array"
   ]
  },
  {
   "cell_type": "code",
   "execution_count": null,
   "metadata": {},
   "outputs": [],
   "source": [
    "import numpy as np\n",
    "\n",
    "myArray = []\n",
    "\n",
    "size = int(input(\"input the size of the array:\"))\n",
    "\n",
    "for i in range(size):\n",
    "    n = int(input(\"Enter number:\"))\n",
    "    myArray.append(n)\n",
    "    \n",
    "arr3 = np.array(myArray)\n",
    "\n",
    "for a in arr3:\n",
    "    print(a)\n",
    "\n",
    "\n"
   ]
  },
  {
   "cell_type": "code",
   "execution_count": 10,
   "metadata": {},
   "outputs": [
    {
     "name": "stdout",
     "output_type": "stream",
     "text": [
      "[[0 0 0]\n",
      " [0 0 0]\n",
      " [0 0 0]\n",
      " [0 0 0]]\n",
      "[[1. 0. 0.]\n",
      " [0. 1. 0.]\n",
      " [0. 0. 1.]]\n"
     ]
    }
   ],
   "source": [
    "#identity matrix\n",
    "import numpy as np\n",
    "arr = np.zeros([4,3],int)\n",
    "\n",
    "print(arr)\n",
    "\n",
    "\n",
    "arr2 = np.eye(3)\n",
    "print(arr2)\n"
   ]
  },
  {
   "cell_type": "code",
   "execution_count": 40,
   "metadata": {},
   "outputs": [
    {
     "name": "stdout",
     "output_type": "stream",
     "text": [
      "[[2 0 0]\n",
      " [0 5 0]\n",
      " [0 0 7]]\n",
      "2\n"
     ]
    }
   ],
   "source": [
    "arr = np.diag([2,5,7])\n",
    "\n",
    "print(arr)\n",
    "print(\"Dimension:\",arr.ndim)"
   ]
  },
  {
   "cell_type": "code",
   "execution_count": 31,
   "metadata": {},
   "outputs": [
    {
     "name": "stdout",
     "output_type": "stream",
     "text": [
      "[[ 0  1  2  3]\n",
      " [ 4  5  6  7]\n",
      " [ 8  9 10 11]]\n"
     ]
    }
   ],
   "source": [
    "import numpy as np\n",
    "\n",
    "aa =  np.arange(0, 12).reshape(3, 4)\n",
    "print(aa)\n"
   ]
  },
  {
   "cell_type": "markdown",
   "metadata": {},
   "source": [
    "#### 2D Array"
   ]
  },
  {
   "cell_type": "code",
   "execution_count": 39,
   "metadata": {},
   "outputs": [
    {
     "name": "stdout",
     "output_type": "stream",
     "text": [
      "[[2 3 5]\n",
      " [4 3 2]\n",
      " [3 4 6]\n",
      " [4 8 9]]\n",
      "\n",
      "Dimension: 2\n",
      "Shape: (4, 3)\n"
     ]
    }
   ],
   "source": [
    "import numpy as np\n",
    "\n",
    "arr = np.array([[2,3,5],[4,3,2],[3,4,6],[4,8,9]])\n",
    "print(arr)\n",
    "print(\"\")\n",
    "print(\"Dimension:\",arr.ndim)\n",
    "print(\"Shape:\",arr.shape)"
   ]
  },
  {
   "cell_type": "code",
   "execution_count": null,
   "metadata": {},
   "outputs": [],
   "source": []
  }
 ],
 "metadata": {
  "kernelspec": {
   "display_name": "Python 3",
   "language": "python",
   "name": "python3"
  },
  "language_info": {
   "codemirror_mode": {
    "name": "ipython",
    "version": 3
   },
   "file_extension": ".py",
   "mimetype": "text/x-python",
   "name": "python",
   "nbconvert_exporter": "python",
   "pygments_lexer": "ipython3",
   "version": "3.8.3"
  }
 },
 "nbformat": 4,
 "nbformat_minor": 4
}
